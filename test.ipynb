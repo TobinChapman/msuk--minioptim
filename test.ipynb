{
 "cells": [
  {
   "cell_type": "code",
   "execution_count": 9,
   "metadata": {},
   "outputs": [
    {
     "name": "stdout",
     "output_type": "stream",
     "text": [
      "   index       campaign    budget  trans_driven  revenue_driven       ROI\n",
      "0      0  Crave_Display  763529.0       14922.0        195926.0  3.320780\n",
      "1      1   Crave_Cinema  336471.0        7896.0        103674.0  3.987462\n"
     ]
    }
   ],
   "source": [
    "#import streamlit as st\n",
    "import pandas as pd\n",
    "\n",
    "base_curves = pd.DataFrame(pd.read_csv('all_kfc_curves.csv'))\n",
    "\n",
    "#curves_only = base_curves.drop('netspend',axis=1).reset_index()\n",
    "\n",
    "def optimise_curve(df, budget, weeks):\n",
    "    # create a new df to hold the results\n",
    "    df_mid = pd.DataFrame()\n",
    "\n",
    "    #calculate the number of 'units' that we have to assign\n",
    "    units = budget/weeks/1000\n",
    "    \n",
    "    for col in df.columns:\n",
    "        df_mid[col + '_incr'] = df[col].diff().fillna(0)\n",
    "    \n",
    "    df_mid = df_mid.filter(regex='_incr').melt(var_name = 'campaign').nlargest(round(units), 'value')\n",
    "\n",
    "    budget_df = pd.DataFrame(df_mid['campaign'].value_counts()).reset_index()\n",
    "\n",
    "    budget_df['campaign'] = budget_df['campaign'].str.replace('_incr', '')\n",
    "\n",
    "    budget_df['budget'] = (budget_df['count']/(budget_df['count'].sum()))*budget\n",
    "\n",
    "    budget_df = budget_df.drop('count',axis=1)\n",
    "\n",
    "    budget_df['budget'] = budget_df['budget'].round()\n",
    "\n",
    "    budget_df['wklybudget'] = (budget_df['budget']/weeks).round(-3)\n",
    "\n",
    "    base_curves.set_index('netspend', inplace=True)\n",
    "\n",
    "    budget_df['trans_driven'] = (budget_df.apply(lambda row: base_curves.loc[row['wklybudget'], row['campaign']], axis=1)).round()\n",
    "\n",
    "    budget_df = (\n",
    "        budget_df.assign(\n",
    "            revenue_driven=(budget_df['trans_driven']*13.13).round(),\n",
    "            ROI=lambda df: df['revenue_driven']/df['wklybudget']\n",
    "        )).drop('wklybudget', axis=1)\n",
    "    \n",
    "    return budget_df\n",
    "\n",
    "df_filtered = base_curves[['Crave_Cinema', 'Crave_Display']]\n",
    "\n",
    "final_df = optimise_curve(df_filtered, weeks = 13, budget = 1100000).reset_index()\n",
    "\n",
    "print(final_df)"
   ]
  },
  {
   "cell_type": "code",
   "execution_count": 19,
   "metadata": {},
   "outputs": [],
   "source": [
    "#settings\n",
    "df = df_filtered\n",
    "budget = 1100000\n",
    "weeks = 11\n",
    "col = 'Lunch_Social'\n",
    "\n",
    "Lunch_TV_wklybdgt = 809000\n",
    "Lunch_Social_wklybdgt = 191000\n"
   ]
  },
  {
   "cell_type": "code",
   "execution_count": 47,
   "metadata": {},
   "outputs": [
    {
     "name": "stdout",
     "output_type": "stream",
     "text": [
      "   index       campaign    budget  wklybudget  revenue_driven\n",
      "0      0  Crave_Display  759000.0     69000.0        16305.34\n",
      "1      1   Crave_Cinema  341000.0     31000.0         8587.52\n"
     ]
    }
   ],
   "source": [
    "# Set netspend as index for easy lookup\n",
    "#base_curves = pd.DataFrame(pd.read_csv('all_kfc_curves.csv'))\n",
    "base_curves.set_index('netspend', inplace=True)\n",
    "\n",
    "final_df['wklybudget'] = (final_df['budget']/weeks).round(-3)\n",
    "\n",
    "# Create a new column in final_df\n",
    "final_df['revenue_driven'] = final_df.apply(lambda row: base_curves.loc[row['wklybudget'], row['campaign']], axis=1)\n",
    "\n",
    "print(final_df)"
   ]
  },
  {
   "cell_type": "code",
   "execution_count": null,
   "metadata": {},
   "outputs": [],
   "source": []
  }
 ],
 "metadata": {
  "kernelspec": {
   "display_name": "Python 3",
   "language": "python",
   "name": "python3"
  },
  "language_info": {
   "codemirror_mode": {
    "name": "ipython",
    "version": 3
   },
   "file_extension": ".py",
   "mimetype": "text/x-python",
   "name": "python",
   "nbconvert_exporter": "python",
   "pygments_lexer": "ipython3",
   "version": "3.11.1"
  }
 },
 "nbformat": 4,
 "nbformat_minor": 2
}
