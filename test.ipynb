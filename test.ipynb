{
 "cells": [
  {
   "cell_type": "code",
   "execution_count": 14,
   "metadata": {},
   "outputs": [
    {
     "name": "stdout",
     "output_type": "stream",
     "text": [
      "   index      campaign     budget\n",
      "0      0      Lunch_TV  8090000.0\n",
      "1      1  Lunch_Social  1910000.0\n"
     ]
    }
   ],
   "source": [
    "#import streamlit as st\n",
    "import pandas as pd\n",
    "\n",
    "base_curves = pd.DataFrame(pd.read_csv('all_kfc_curves.csv'))\n",
    "\n",
    "curves_only = base_curves.drop('netspend',axis=1).reset_index()\n",
    "\n",
    "def optimise_curve(df, budget, weeks):\n",
    "    # create a new df to hold the results\n",
    "    df_mid = pd.DataFrame()\n",
    "\n",
    "    #calculate the number of 'units' that we have to assign\n",
    "    units = budget/weeks/1000\n",
    "    \n",
    "    for col in df.columns:\n",
    "        df_mid[col + '_incr'] = df[col].diff().fillna(0)\n",
    "    \n",
    "    df_mid = df_mid.filter(regex='_incr').melt(var_name = 'campaign').nlargest(round(units), 'value')\n",
    "\n",
    "    budget_df = pd.DataFrame(df_mid['campaign'].value_counts()).reset_index()\n",
    "\n",
    "    budget_df['campaign'] = budget_df['campaign'].str.replace('_incr', '')\n",
    "\n",
    "    budget_df['budget'] = (budget_df['count']/(budget_df['count'].sum()))*budget\n",
    "\n",
    "    budget_df = budget_df.drop('count',axis=1)\n",
    "\n",
    "    budget_df['budget'] = budget_df['budget'].round()\n",
    "    \n",
    "    return budget_df\n",
    "\n",
    "df_filtered = base_curves[['Lunch_Social', 'Lunch_TV']]\n",
    "\n",
    "final_df = optimise_curve(df_filtered, weeks = 10, budget = 10000000).reset_index()\n",
    "\n",
    "print(final_df)"
   ]
  },
  {
   "cell_type": "code",
   "execution_count": 9,
   "metadata": {},
   "outputs": [],
   "source": [
    "#settings\n",
    "df = df_filtered\n",
    "budget = 10000000\n",
    "weeks = 10\n",
    "col = 'Lunch_Social'\n",
    "\n",
    "Lunch_TV_wklybdgt = 809000\n",
    "Lunch_Social_wklybdgt = 191000\n"
   ]
  },
  {
   "cell_type": "code",
   "execution_count": 18,
   "metadata": {},
   "outputs": [
    {
     "name": "stdout",
     "output_type": "stream",
     "text": [
      "   index      campaign     budget  wklybudget\n",
      "0      0      Lunch_TV  8090000.0    809000.0\n",
      "1      1  Lunch_Social  1910000.0    191000.0\n"
     ]
    }
   ],
   "source": [
    "final_df['wklybudget'] = final_df['budget']/weeks\n",
    "\n",
    "print(final_df)\n",
    "\n",
    "for row in final_df.rows:\n",
    "        df_mid[col + '_incr'] = df[col].diff().fillna(0)"
   ]
  },
  {
   "cell_type": "code",
   "execution_count": null,
   "metadata": {},
   "outputs": [],
   "source": []
  }
 ],
 "metadata": {
  "kernelspec": {
   "display_name": "Python 3",
   "language": "python",
   "name": "python3"
  },
  "language_info": {
   "codemirror_mode": {
    "name": "ipython",
    "version": 3
   },
   "file_extension": ".py",
   "mimetype": "text/x-python",
   "name": "python",
   "nbconvert_exporter": "python",
   "pygments_lexer": "ipython3",
   "version": "3.11.1"
  }
 },
 "nbformat": 4,
 "nbformat_minor": 2
}
