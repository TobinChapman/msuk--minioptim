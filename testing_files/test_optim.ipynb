{
 "cells": [
  {
   "cell_type": "code",
   "execution_count": 20,
   "metadata": {},
   "outputs": [],
   "source": [
    "import pandas as pd\n",
    "\n",
    "base_curves = pd.DataFrame(pd.read_csv('brand_sales_curves.csv'))\n",
    "\n",
    "base_curves = base_curves.drop('netspend',axis=1)\n"
   ]
  },
  {
   "cell_type": "code",
   "execution_count": 22,
   "metadata": {},
   "outputs": [],
   "source": [
    "def optimise_curve(df, budget, weeks):\n",
    "    # create a new df to hold the results\n",
    "    df_mid = pd.DataFrame()\n",
    "\n",
    "    #calculate the number of 'units' that we have to assign\n",
    "    units = budget/weeks/1000\n",
    "    \n",
    "    for col in df.columns:\n",
    "        df_mid[col + '_incr'] = df[col].diff().fillna(0)\n",
    "    \n",
    "    df_mid = df_mid.filter(regex='_incr').melt(var_name = 'campaign').nlargest(round(units), 'value')\n",
    "\n",
    "    budget_df = pd.DataFrame(df_mid['campaign'].value_counts()).reset_index()\n",
    "\n",
    "    budget_df['campaign'] = budget_df['campaign'].str.replace('_incr', '')\n",
    "\n",
    "    budget_df['budget'] = (budget_df['count']/(budget_df['count'].sum()))*budget\n",
    "\n",
    "    budget_df = budget_df.drop('count',axis=1)\n",
    "\n",
    "    #budget_df[budget] = budget_df[budget].round()\n",
    "    \n",
    "    return budget_df"
   ]
  },
  {
   "cell_type": "code",
   "execution_count": 24,
   "metadata": {},
   "outputs": [],
   "source": [
    "final_budget = optimise_curve(df = base_curves, budget = 1500000, weeks = 9)"
   ]
  },
  {
   "cell_type": "code",
   "execution_count": null,
   "metadata": {},
   "outputs": [],
   "source": [
    "\n",
    "def calculateDaysBetweenDates(begin, end):\n",
    "    return (end - begin).days\n",
    "\n"
   ]
  }
 ],
 "metadata": {
  "kernelspec": {
   "display_name": "Python 3",
   "language": "python",
   "name": "python3"
  },
  "language_info": {
   "codemirror_mode": {
    "name": "ipython",
    "version": 3
   },
   "file_extension": ".py",
   "mimetype": "text/x-python",
   "name": "python",
   "nbconvert_exporter": "python",
   "pygments_lexer": "ipython3",
   "version": "3.11.1"
  }
 },
 "nbformat": 4,
 "nbformat_minor": 2
}
